{
 "cells": [
  {
   "cell_type": "markdown",
   "metadata": {},
   "source": [
    "## Real Estate Agency\n",
    "\n",
    "\n",
    "* Student name:\n",
    "\n",
    "- Beatrice Kariuki   - Lead\n",
    "\n",
    "- Rodgers Odhiambo\n",
    "\n",
    "- Mohamed Ali\n",
    "\n",
    "- Ahmed HAJI\n",
    "\n",
    "- Peter Muhia\n",
    "\n",
    "- Emmanuellar Karisa\n",
    "\n",
    "* Student pace:  part time \n",
    "* Instructor name: Sam Jane\n",
    "\n"
   ]
  },
  {
   "cell_type": "markdown",
   "metadata": {},
   "source": [
    "![awesome](https://images.unsplash.com/photo-1560518883-ce09059eeffa?w=500&auto=format&fit=crop&q=60&ixlib=rb-4.0.3&ixid=M3wxMjA3fDB8MHxzZWFyY2h8Mnx8aG91c2UlMjByZW50YWx8ZW58MHx8MHx8fDA%3D)"
   ]
  },
  {
   "cell_type": "markdown",
   "metadata": {},
   "source": [
    "## 1.0 BUSINESS UNDESTARNDING"
   ]
  },
  {
   "cell_type": "markdown",
   "metadata": {},
   "source": [
    "# 1.1 Overview\n",
    "The primary goal of the project is to build a predictive model that can estimate/predict the house prices in King County, Washington ,USA based on its features,provide valuable insights through comparative market analysis in order to facilitate informed decision making. The target audience includes real estate analysts,real estate investors,data scientists,machine learning practioners,financial institutions,potential home buyers and potential tenants. The dataset used is the King County House dataset accessible from \n",
    "(https://drive.google.com/file/d/1qeLCHwL6FCu2MFMEpMg8CzuVOb_kx2Kq/view?usp=drive_link)"
   ]
  },
  {
   "cell_type": "markdown",
   "metadata": {},
   "source": [
    "## 1.2 PROBLEM STATEMENT\n",
    "The real estate industry is constantly changing due to social, economic, and technological developments. As such, new challenges are presented each day. It is important to stay informed of these changes,create strategies that address the current issues and also have an understanding of the core principles that drive successful sales.A solid pricing strategy backed up by data and market knowledge are among the most important factors to take into consideration.Some of the challenges in the industry include;\n",
    "\n",
    "1.Runaway inflation, high interest rates, bank stress and tightening liquidity. This, compounded by fluctuating demand as a\n",
    "result of inflation income effect that is constraining consumer purchasing power, is having a negative toll on investment earnings in the area.\n",
    "\n",
    "2.The ever increasing competition which makes standing out and capturing the attention of potential leads can be a challenging endeavor. Leads can be elusive, as many people are cautious about sharing their contact information or engaging with real estate agents.\n",
    "\n",
    "3.Pricing Properties - Setting the right price for a property from the beginning can determine whether it sells quickly and profitably or sits unsold for an extended period.This highlights the crucial importance of precise property pricing in the real estate sector.\n",
    "\n",
    "4.Demographics - Change in demographics can have a significant impact on the real estate industry. Shifting population characteristics, such as age, income, and household composition, influence the types of properties in demand, preferred locations, and overall market trends e.g an aging population might lead to increased demand for retirement communities or homes with accessibility features.\n",
    "\n",
    "The key stakeholders who play a vital role in the real estate industry are ;\n",
    "\n",
    "- Real estate analysts - Help in providing valuable insights and analysis to support decision-making processes.\n",
    "- Real estate investors - Individuals or institutions who invest in real estate for the purpose of generating income.\n",
    "- Real estate agents - facilitate property transactions between buyers and sellers.\n",
    "- Financial institutions - b.anks,morgage companies.\n",
    "- Potential home buyers and potential tenants - indivuduals/companies looking to buy or sell their properties.\n",
    "- Government - Regulates the real estate industry through zoning laws, building standards and other regulations.\n",
    "- Real Estate Appriasers - Determine the value of a property based on various factors,helping buyers and lenders assess its worth."
   ]
  },
  {
   "cell_type": "markdown",
   "metadata": {},
   "source": [
    "# 1.3 OBJECTIVES\n",
    "- To evaluate factors that affect saleprice of houses.\n",
    "- What combinations of features is best fit for price predictions.\n"
   ]
  },
  {
   "cell_type": "markdown",
   "metadata": {},
   "source": [
    "# 1.4 Data Understanding\n",
    "For this project, we will be using the King County House Sales dataset, which contains information about house sales in a northwestern county. The dataset includes various features such as the number of bedrooms, bathrooms, living area size, condition of the house, presence of additional amenities, and more.\n",
    "\n",
    "The dataset has 20 columns and over 21500 records, covering house sales between May 2014 and May 2015. The data is suitable for the project because it provide relevant information about the features that affect the house prices in King County. The dataset was obtained from GitHub.\n",
    "\n",
    "The King County House Sales dataset contains the following columns;\n",
    "\n",
    "- Price - Sale price (prediction target),\n",
    "- bedrooms - Number of bedrooms,\n",
    "- bathrooms - Number of bathrooms,\n",
    "- sqft_living - Square footage of living space in the home,\n",
    "- sqft_lot - Square footage of the lot,\n",
    "- floors - Number of floors (levels) in house,\n",
    "- view - Quality of view from house,\n",
    "- condition - How good the overall condition of the house is. Related to maintenance of house,\n",
    "- grade - Overall grade of the house. Related to the construction and design of the house,\n",
    "- sqft_above - Square footage of house apart from basement,\n",
    "- sqft_basement - Square footage of the basement,\n",
    "- yr_built - Year when house was built,\n",
    "- yr_renovated - Year when house was renovated,\n",
    "- zipcode - ZIP Code used by the United States Postal Service,\n",
    "- sqft_living15 - The square footage of interior housing living space for the nearest 15 neighbors,\n",
    "- sqft_lot15 - The square footage of the land lots of the nearest 15 neighbors, and\n",
    "- sell_yr - Date house was sold.\n",
    "\n",
    "For our analysis we decided to choose the following columns price,bedrooms,bathrooms,sqft_living\tcondition,yr_built,sell_yr and house_age of which are expected to have an impact on the price of the house."
   ]
  },
  {
   "cell_type": "markdown",
   "metadata": {},
   "source": [
    "# 1.5 Data familiarization"
   ]
  },
  {
   "cell_type": "code",
   "execution_count": 1,
   "metadata": {},
   "outputs": [],
   "source": [
    "#importing relevant libraries\n",
    "import pandas as pd\n",
    "import matplotlib.pyplot as plt\n",
    "import numpy as np\n",
    "import seaborn as sns\n",
    "import scipy.stats as stats\n",
    "from scipy.stats import zscore\n",
    "import math\n",
    "from sklearn.model_selection import train_test_split\n",
    "from sklearn.linear_model import LinearRegression\n",
    "from sklearn.metrics import mean_squared_error\n",
    "from sklearn.metrics import r2_score\n",
    "from sklearn.feature_selection import RFE"
   ]
  },
  {
   "cell_type": "code",
   "execution_count": 2,
   "metadata": {
    "scrolled": true
   },
   "outputs": [
    {
     "data": {
      "text/html": [
       "<div>\n",
       "<style scoped>\n",
       "    .dataframe tbody tr th:only-of-type {\n",
       "        vertical-align: middle;\n",
       "    }\n",
       "\n",
       "    .dataframe tbody tr th {\n",
       "        vertical-align: top;\n",
       "    }\n",
       "\n",
       "    .dataframe thead th {\n",
       "        text-align: right;\n",
       "    }\n",
       "</style>\n",
       "<table border=\"1\" class=\"dataframe\">\n",
       "  <thead>\n",
       "    <tr style=\"text-align: right;\">\n",
       "      <th></th>\n",
       "      <th>id</th>\n",
       "      <th>date</th>\n",
       "      <th>price</th>\n",
       "      <th>bedrooms</th>\n",
       "      <th>bathrooms</th>\n",
       "      <th>sqft_living</th>\n",
       "      <th>sqft_lot</th>\n",
       "      <th>floors</th>\n",
       "      <th>waterfront</th>\n",
       "      <th>view</th>\n",
       "      <th>condition</th>\n",
       "      <th>grade</th>\n",
       "      <th>sqft_above</th>\n",
       "      <th>sqft_basement</th>\n",
       "      <th>yr_built</th>\n",
       "      <th>yr_renovated</th>\n",
       "      <th>zipcode</th>\n",
       "      <th>lat</th>\n",
       "      <th>long</th>\n",
       "      <th>sqft_living15</th>\n",
       "      <th>sqft_lot15</th>\n",
       "    </tr>\n",
       "  </thead>\n",
       "  <tbody>\n",
       "    <tr>\n",
       "      <th>0</th>\n",
       "      <td>7129300520</td>\n",
       "      <td>10/13/2014</td>\n",
       "      <td>221900.0</td>\n",
       "      <td>3</td>\n",
       "      <td>1.00</td>\n",
       "      <td>1180</td>\n",
       "      <td>5650</td>\n",
       "      <td>1.0</td>\n",
       "      <td>NaN</td>\n",
       "      <td>NONE</td>\n",
       "      <td>Average</td>\n",
       "      <td>7 Average</td>\n",
       "      <td>1180</td>\n",
       "      <td>0.0</td>\n",
       "      <td>1955</td>\n",
       "      <td>0.0</td>\n",
       "      <td>98178</td>\n",
       "      <td>47.5112</td>\n",
       "      <td>-122.257</td>\n",
       "      <td>1340</td>\n",
       "      <td>5650</td>\n",
       "    </tr>\n",
       "    <tr>\n",
       "      <th>1</th>\n",
       "      <td>6414100192</td>\n",
       "      <td>12/9/2014</td>\n",
       "      <td>538000.0</td>\n",
       "      <td>3</td>\n",
       "      <td>2.25</td>\n",
       "      <td>2570</td>\n",
       "      <td>7242</td>\n",
       "      <td>2.0</td>\n",
       "      <td>NO</td>\n",
       "      <td>NONE</td>\n",
       "      <td>Average</td>\n",
       "      <td>7 Average</td>\n",
       "      <td>2170</td>\n",
       "      <td>400.0</td>\n",
       "      <td>1951</td>\n",
       "      <td>1991.0</td>\n",
       "      <td>98125</td>\n",
       "      <td>47.7210</td>\n",
       "      <td>-122.319</td>\n",
       "      <td>1690</td>\n",
       "      <td>7639</td>\n",
       "    </tr>\n",
       "    <tr>\n",
       "      <th>2</th>\n",
       "      <td>5631500400</td>\n",
       "      <td>2/25/2015</td>\n",
       "      <td>180000.0</td>\n",
       "      <td>2</td>\n",
       "      <td>1.00</td>\n",
       "      <td>770</td>\n",
       "      <td>10000</td>\n",
       "      <td>1.0</td>\n",
       "      <td>NO</td>\n",
       "      <td>NONE</td>\n",
       "      <td>Average</td>\n",
       "      <td>6 Low Average</td>\n",
       "      <td>770</td>\n",
       "      <td>0.0</td>\n",
       "      <td>1933</td>\n",
       "      <td>NaN</td>\n",
       "      <td>98028</td>\n",
       "      <td>47.7379</td>\n",
       "      <td>-122.233</td>\n",
       "      <td>2720</td>\n",
       "      <td>8062</td>\n",
       "    </tr>\n",
       "    <tr>\n",
       "      <th>3</th>\n",
       "      <td>2487200875</td>\n",
       "      <td>12/9/2014</td>\n",
       "      <td>604000.0</td>\n",
       "      <td>4</td>\n",
       "      <td>3.00</td>\n",
       "      <td>1960</td>\n",
       "      <td>5000</td>\n",
       "      <td>1.0</td>\n",
       "      <td>NO</td>\n",
       "      <td>NONE</td>\n",
       "      <td>Very Good</td>\n",
       "      <td>7 Average</td>\n",
       "      <td>1050</td>\n",
       "      <td>910.0</td>\n",
       "      <td>1965</td>\n",
       "      <td>0.0</td>\n",
       "      <td>98136</td>\n",
       "      <td>47.5208</td>\n",
       "      <td>-122.393</td>\n",
       "      <td>1360</td>\n",
       "      <td>5000</td>\n",
       "    </tr>\n",
       "    <tr>\n",
       "      <th>4</th>\n",
       "      <td>1954400510</td>\n",
       "      <td>2/18/2015</td>\n",
       "      <td>510000.0</td>\n",
       "      <td>3</td>\n",
       "      <td>2.00</td>\n",
       "      <td>1680</td>\n",
       "      <td>8080</td>\n",
       "      <td>1.0</td>\n",
       "      <td>NO</td>\n",
       "      <td>NONE</td>\n",
       "      <td>Average</td>\n",
       "      <td>8 Good</td>\n",
       "      <td>1680</td>\n",
       "      <td>0.0</td>\n",
       "      <td>1987</td>\n",
       "      <td>0.0</td>\n",
       "      <td>98074</td>\n",
       "      <td>47.6168</td>\n",
       "      <td>-122.045</td>\n",
       "      <td>1800</td>\n",
       "      <td>7503</td>\n",
       "    </tr>\n",
       "  </tbody>\n",
       "</table>\n",
       "</div>"
      ],
      "text/plain": [
       "           id        date     price  bedrooms  bathrooms  sqft_living  \\\n",
       "0  7129300520  10/13/2014  221900.0         3       1.00         1180   \n",
       "1  6414100192   12/9/2014  538000.0         3       2.25         2570   \n",
       "2  5631500400   2/25/2015  180000.0         2       1.00          770   \n",
       "3  2487200875   12/9/2014  604000.0         4       3.00         1960   \n",
       "4  1954400510   2/18/2015  510000.0         3       2.00         1680   \n",
       "\n",
       "   sqft_lot  floors waterfront  view  condition          grade  sqft_above  \\\n",
       "0      5650     1.0        NaN  NONE    Average      7 Average        1180   \n",
       "1      7242     2.0         NO  NONE    Average      7 Average        2170   \n",
       "2     10000     1.0         NO  NONE    Average  6 Low Average         770   \n",
       "3      5000     1.0         NO  NONE  Very Good      7 Average        1050   \n",
       "4      8080     1.0         NO  NONE    Average         8 Good        1680   \n",
       "\n",
       "  sqft_basement  yr_built  yr_renovated  zipcode      lat     long  \\\n",
       "0           0.0      1955           0.0    98178  47.5112 -122.257   \n",
       "1         400.0      1951        1991.0    98125  47.7210 -122.319   \n",
       "2           0.0      1933           NaN    98028  47.7379 -122.233   \n",
       "3         910.0      1965           0.0    98136  47.5208 -122.393   \n",
       "4           0.0      1987           0.0    98074  47.6168 -122.045   \n",
       "\n",
       "   sqft_living15  sqft_lot15  \n",
       "0           1340        5650  \n",
       "1           1690        7639  \n",
       "2           2720        8062  \n",
       "3           1360        5000  \n",
       "4           1800        7503  "
      ]
     },
     "execution_count": 2,
     "metadata": {},
     "output_type": "execute_result"
    }
   ],
   "source": [
    "#Loading data\n",
    "house_df=pd.read_csv('kc_house_data.csv')\n",
    "pd.set_option(\"display.max_columns\",None)\n",
    "house_df.head()"
   ]
  },
  {
   "cell_type": "code",
   "execution_count": 3,
   "metadata": {},
   "outputs": [
    {
     "data": {
      "text/plain": [
       "id                  0\n",
       "date                0\n",
       "price               0\n",
       "bedrooms            0\n",
       "bathrooms           0\n",
       "sqft_living         0\n",
       "sqft_lot            0\n",
       "floors              0\n",
       "waterfront       2376\n",
       "view               63\n",
       "condition           0\n",
       "grade               0\n",
       "sqft_above          0\n",
       "sqft_basement       0\n",
       "yr_built            0\n",
       "yr_renovated     3842\n",
       "zipcode             0\n",
       "lat                 0\n",
       "long                0\n",
       "sqft_living15       0\n",
       "sqft_lot15          0\n",
       "dtype: int64"
      ]
     },
     "execution_count": 3,
     "metadata": {},
     "output_type": "execute_result"
    }
   ],
   "source": [
    "#checking null values\n",
    "house_df.isna().sum()"
   ]
  },
  {
   "cell_type": "code",
   "execution_count": 4,
   "metadata": {},
   "outputs": [
    {
     "name": "stdout",
     "output_type": "stream",
     "text": [
      "<class 'pandas.core.frame.DataFrame'>\n",
      "RangeIndex: 21597 entries, 0 to 21596\n",
      "Data columns (total 21 columns):\n",
      " #   Column         Non-Null Count  Dtype  \n",
      "---  ------         --------------  -----  \n",
      " 0   id             21597 non-null  int64  \n",
      " 1   date           21597 non-null  object \n",
      " 2   price          21597 non-null  float64\n",
      " 3   bedrooms       21597 non-null  int64  \n",
      " 4   bathrooms      21597 non-null  float64\n",
      " 5   sqft_living    21597 non-null  int64  \n",
      " 6   sqft_lot       21597 non-null  int64  \n",
      " 7   floors         21597 non-null  float64\n",
      " 8   waterfront     19221 non-null  object \n",
      " 9   view           21534 non-null  object \n",
      " 10  condition      21597 non-null  object \n",
      " 11  grade          21597 non-null  object \n",
      " 12  sqft_above     21597 non-null  int64  \n",
      " 13  sqft_basement  21597 non-null  object \n",
      " 14  yr_built       21597 non-null  int64  \n",
      " 15  yr_renovated   17755 non-null  float64\n",
      " 16  zipcode        21597 non-null  int64  \n",
      " 17  lat            21597 non-null  float64\n",
      " 18  long           21597 non-null  float64\n",
      " 19  sqft_living15  21597 non-null  int64  \n",
      " 20  sqft_lot15     21597 non-null  int64  \n",
      "dtypes: float64(6), int64(9), object(6)\n",
      "memory usage: 3.5+ MB\n"
     ]
    }
   ],
   "source": [
    "#checking on data information\n",
    "house_df.info()"
   ]
  },
  {
   "cell_type": "code",
   "execution_count": 5,
   "metadata": {},
   "outputs": [
    {
     "data": {
      "text/html": [
       "<div>\n",
       "<style scoped>\n",
       "    .dataframe tbody tr th:only-of-type {\n",
       "        vertical-align: middle;\n",
       "    }\n",
       "\n",
       "    .dataframe tbody tr th {\n",
       "        vertical-align: top;\n",
       "    }\n",
       "\n",
       "    .dataframe thead th {\n",
       "        text-align: right;\n",
       "    }\n",
       "</style>\n",
       "<table border=\"1\" class=\"dataframe\">\n",
       "  <thead>\n",
       "    <tr style=\"text-align: right;\">\n",
       "      <th></th>\n",
       "      <th>id</th>\n",
       "      <th>price</th>\n",
       "      <th>bedrooms</th>\n",
       "      <th>bathrooms</th>\n",
       "      <th>sqft_living</th>\n",
       "      <th>sqft_lot</th>\n",
       "      <th>floors</th>\n",
       "      <th>sqft_above</th>\n",
       "      <th>yr_built</th>\n",
       "      <th>yr_renovated</th>\n",
       "      <th>zipcode</th>\n",
       "      <th>lat</th>\n",
       "      <th>long</th>\n",
       "      <th>sqft_living15</th>\n",
       "      <th>sqft_lot15</th>\n",
       "    </tr>\n",
       "  </thead>\n",
       "  <tbody>\n",
       "    <tr>\n",
       "      <th>count</th>\n",
       "      <td>2.159700e+04</td>\n",
       "      <td>2.159700e+04</td>\n",
       "      <td>21597.000000</td>\n",
       "      <td>21597.000000</td>\n",
       "      <td>21597.000000</td>\n",
       "      <td>2.159700e+04</td>\n",
       "      <td>21597.000000</td>\n",
       "      <td>21597.000000</td>\n",
       "      <td>21597.000000</td>\n",
       "      <td>17755.000000</td>\n",
       "      <td>21597.000000</td>\n",
       "      <td>21597.000000</td>\n",
       "      <td>21597.000000</td>\n",
       "      <td>21597.000000</td>\n",
       "      <td>21597.000000</td>\n",
       "    </tr>\n",
       "    <tr>\n",
       "      <th>mean</th>\n",
       "      <td>4.580474e+09</td>\n",
       "      <td>5.402966e+05</td>\n",
       "      <td>3.373200</td>\n",
       "      <td>2.115826</td>\n",
       "      <td>2080.321850</td>\n",
       "      <td>1.509941e+04</td>\n",
       "      <td>1.494096</td>\n",
       "      <td>1788.596842</td>\n",
       "      <td>1970.999676</td>\n",
       "      <td>83.636778</td>\n",
       "      <td>98077.951845</td>\n",
       "      <td>47.560093</td>\n",
       "      <td>-122.213982</td>\n",
       "      <td>1986.620318</td>\n",
       "      <td>12758.283512</td>\n",
       "    </tr>\n",
       "    <tr>\n",
       "      <th>std</th>\n",
       "      <td>2.876736e+09</td>\n",
       "      <td>3.673681e+05</td>\n",
       "      <td>0.926299</td>\n",
       "      <td>0.768984</td>\n",
       "      <td>918.106125</td>\n",
       "      <td>4.141264e+04</td>\n",
       "      <td>0.539683</td>\n",
       "      <td>827.759761</td>\n",
       "      <td>29.375234</td>\n",
       "      <td>399.946414</td>\n",
       "      <td>53.513072</td>\n",
       "      <td>0.138552</td>\n",
       "      <td>0.140724</td>\n",
       "      <td>685.230472</td>\n",
       "      <td>27274.441950</td>\n",
       "    </tr>\n",
       "    <tr>\n",
       "      <th>min</th>\n",
       "      <td>1.000102e+06</td>\n",
       "      <td>7.800000e+04</td>\n",
       "      <td>1.000000</td>\n",
       "      <td>0.500000</td>\n",
       "      <td>370.000000</td>\n",
       "      <td>5.200000e+02</td>\n",
       "      <td>1.000000</td>\n",
       "      <td>370.000000</td>\n",
       "      <td>1900.000000</td>\n",
       "      <td>0.000000</td>\n",
       "      <td>98001.000000</td>\n",
       "      <td>47.155900</td>\n",
       "      <td>-122.519000</td>\n",
       "      <td>399.000000</td>\n",
       "      <td>651.000000</td>\n",
       "    </tr>\n",
       "    <tr>\n",
       "      <th>25%</th>\n",
       "      <td>2.123049e+09</td>\n",
       "      <td>3.220000e+05</td>\n",
       "      <td>3.000000</td>\n",
       "      <td>1.750000</td>\n",
       "      <td>1430.000000</td>\n",
       "      <td>5.040000e+03</td>\n",
       "      <td>1.000000</td>\n",
       "      <td>1190.000000</td>\n",
       "      <td>1951.000000</td>\n",
       "      <td>0.000000</td>\n",
       "      <td>98033.000000</td>\n",
       "      <td>47.471100</td>\n",
       "      <td>-122.328000</td>\n",
       "      <td>1490.000000</td>\n",
       "      <td>5100.000000</td>\n",
       "    </tr>\n",
       "    <tr>\n",
       "      <th>50%</th>\n",
       "      <td>3.904930e+09</td>\n",
       "      <td>4.500000e+05</td>\n",
       "      <td>3.000000</td>\n",
       "      <td>2.250000</td>\n",
       "      <td>1910.000000</td>\n",
       "      <td>7.618000e+03</td>\n",
       "      <td>1.500000</td>\n",
       "      <td>1560.000000</td>\n",
       "      <td>1975.000000</td>\n",
       "      <td>0.000000</td>\n",
       "      <td>98065.000000</td>\n",
       "      <td>47.571800</td>\n",
       "      <td>-122.231000</td>\n",
       "      <td>1840.000000</td>\n",
       "      <td>7620.000000</td>\n",
       "    </tr>\n",
       "    <tr>\n",
       "      <th>75%</th>\n",
       "      <td>7.308900e+09</td>\n",
       "      <td>6.450000e+05</td>\n",
       "      <td>4.000000</td>\n",
       "      <td>2.500000</td>\n",
       "      <td>2550.000000</td>\n",
       "      <td>1.068500e+04</td>\n",
       "      <td>2.000000</td>\n",
       "      <td>2210.000000</td>\n",
       "      <td>1997.000000</td>\n",
       "      <td>0.000000</td>\n",
       "      <td>98118.000000</td>\n",
       "      <td>47.678000</td>\n",
       "      <td>-122.125000</td>\n",
       "      <td>2360.000000</td>\n",
       "      <td>10083.000000</td>\n",
       "    </tr>\n",
       "    <tr>\n",
       "      <th>max</th>\n",
       "      <td>9.900000e+09</td>\n",
       "      <td>7.700000e+06</td>\n",
       "      <td>33.000000</td>\n",
       "      <td>8.000000</td>\n",
       "      <td>13540.000000</td>\n",
       "      <td>1.651359e+06</td>\n",
       "      <td>3.500000</td>\n",
       "      <td>9410.000000</td>\n",
       "      <td>2015.000000</td>\n",
       "      <td>2015.000000</td>\n",
       "      <td>98199.000000</td>\n",
       "      <td>47.777600</td>\n",
       "      <td>-121.315000</td>\n",
       "      <td>6210.000000</td>\n",
       "      <td>871200.000000</td>\n",
       "    </tr>\n",
       "  </tbody>\n",
       "</table>\n",
       "</div>"
      ],
      "text/plain": [
       "                 id         price      bedrooms     bathrooms   sqft_living  \\\n",
       "count  2.159700e+04  2.159700e+04  21597.000000  21597.000000  21597.000000   \n",
       "mean   4.580474e+09  5.402966e+05      3.373200      2.115826   2080.321850   \n",
       "std    2.876736e+09  3.673681e+05      0.926299      0.768984    918.106125   \n",
       "min    1.000102e+06  7.800000e+04      1.000000      0.500000    370.000000   \n",
       "25%    2.123049e+09  3.220000e+05      3.000000      1.750000   1430.000000   \n",
       "50%    3.904930e+09  4.500000e+05      3.000000      2.250000   1910.000000   \n",
       "75%    7.308900e+09  6.450000e+05      4.000000      2.500000   2550.000000   \n",
       "max    9.900000e+09  7.700000e+06     33.000000      8.000000  13540.000000   \n",
       "\n",
       "           sqft_lot        floors    sqft_above      yr_built  yr_renovated  \\\n",
       "count  2.159700e+04  21597.000000  21597.000000  21597.000000  17755.000000   \n",
       "mean   1.509941e+04      1.494096   1788.596842   1970.999676     83.636778   \n",
       "std    4.141264e+04      0.539683    827.759761     29.375234    399.946414   \n",
       "min    5.200000e+02      1.000000    370.000000   1900.000000      0.000000   \n",
       "25%    5.040000e+03      1.000000   1190.000000   1951.000000      0.000000   \n",
       "50%    7.618000e+03      1.500000   1560.000000   1975.000000      0.000000   \n",
       "75%    1.068500e+04      2.000000   2210.000000   1997.000000      0.000000   \n",
       "max    1.651359e+06      3.500000   9410.000000   2015.000000   2015.000000   \n",
       "\n",
       "            zipcode           lat          long  sqft_living15     sqft_lot15  \n",
       "count  21597.000000  21597.000000  21597.000000   21597.000000   21597.000000  \n",
       "mean   98077.951845     47.560093   -122.213982    1986.620318   12758.283512  \n",
       "std       53.513072      0.138552      0.140724     685.230472   27274.441950  \n",
       "min    98001.000000     47.155900   -122.519000     399.000000     651.000000  \n",
       "25%    98033.000000     47.471100   -122.328000    1490.000000    5100.000000  \n",
       "50%    98065.000000     47.571800   -122.231000    1840.000000    7620.000000  \n",
       "75%    98118.000000     47.678000   -122.125000    2360.000000   10083.000000  \n",
       "max    98199.000000     47.777600   -121.315000    6210.000000  871200.000000  "
      ]
     },
     "execution_count": 5,
     "metadata": {},
     "output_type": "execute_result"
    }
   ],
   "source": [
    "#statistical summary\n",
    "house_df.describe()"
   ]
  },
  {
   "cell_type": "markdown",
   "metadata": {},
   "source": [
    "##### Statistical summary observation\n",
    "- count for each column is 21597  this shows that we dont have missing values\n",
    "- The mean value of the house price is USD 540297  while the minimum house price is USD 78000 and maximum  house price is USD 7700000\n",
    "- The standard deviation of the house price stands at USD 367368."
   ]
  },
  {
   "cell_type": "markdown",
   "metadata": {},
   "source": [
    "## DATA PREPARATION"
   ]
  },
  {
   "cell_type": "code",
   "execution_count": 6,
   "metadata": {},
   "outputs": [
    {
     "data": {
      "text/html": [
       "<div>\n",
       "<style scoped>\n",
       "    .dataframe tbody tr th:only-of-type {\n",
       "        vertical-align: middle;\n",
       "    }\n",
       "\n",
       "    .dataframe tbody tr th {\n",
       "        vertical-align: top;\n",
       "    }\n",
       "\n",
       "    .dataframe thead th {\n",
       "        text-align: right;\n",
       "    }\n",
       "</style>\n",
       "<table border=\"1\" class=\"dataframe\">\n",
       "  <thead>\n",
       "    <tr style=\"text-align: right;\">\n",
       "      <th></th>\n",
       "      <th>date</th>\n",
       "      <th>price</th>\n",
       "      <th>bedrooms</th>\n",
       "      <th>bathrooms</th>\n",
       "      <th>sqft_living</th>\n",
       "      <th>condition</th>\n",
       "      <th>yr_built</th>\n",
       "    </tr>\n",
       "  </thead>\n",
       "  <tbody>\n",
       "    <tr>\n",
       "      <th>0</th>\n",
       "      <td>10/13/2014</td>\n",
       "      <td>221900.0</td>\n",
       "      <td>3</td>\n",
       "      <td>1.00</td>\n",
       "      <td>1180</td>\n",
       "      <td>Average</td>\n",
       "      <td>1955</td>\n",
       "    </tr>\n",
       "    <tr>\n",
       "      <th>1</th>\n",
       "      <td>12/9/2014</td>\n",
       "      <td>538000.0</td>\n",
       "      <td>3</td>\n",
       "      <td>2.25</td>\n",
       "      <td>2570</td>\n",
       "      <td>Average</td>\n",
       "      <td>1951</td>\n",
       "    </tr>\n",
       "    <tr>\n",
       "      <th>2</th>\n",
       "      <td>2/25/2015</td>\n",
       "      <td>180000.0</td>\n",
       "      <td>2</td>\n",
       "      <td>1.00</td>\n",
       "      <td>770</td>\n",
       "      <td>Average</td>\n",
       "      <td>1933</td>\n",
       "    </tr>\n",
       "    <tr>\n",
       "      <th>3</th>\n",
       "      <td>12/9/2014</td>\n",
       "      <td>604000.0</td>\n",
       "      <td>4</td>\n",
       "      <td>3.00</td>\n",
       "      <td>1960</td>\n",
       "      <td>Very Good</td>\n",
       "      <td>1965</td>\n",
       "    </tr>\n",
       "    <tr>\n",
       "      <th>4</th>\n",
       "      <td>2/18/2015</td>\n",
       "      <td>510000.0</td>\n",
       "      <td>3</td>\n",
       "      <td>2.00</td>\n",
       "      <td>1680</td>\n",
       "      <td>Average</td>\n",
       "      <td>1987</td>\n",
       "    </tr>\n",
       "  </tbody>\n",
       "</table>\n",
       "</div>"
      ],
      "text/plain": [
       "         date     price  bedrooms  bathrooms  sqft_living  condition  yr_built\n",
       "0  10/13/2014  221900.0         3       1.00         1180    Average      1955\n",
       "1   12/9/2014  538000.0         3       2.25         2570    Average      1951\n",
       "2   2/25/2015  180000.0         2       1.00          770    Average      1933\n",
       "3   12/9/2014  604000.0         4       3.00         1960  Very Good      1965\n",
       "4   2/18/2015  510000.0         3       2.00         1680    Average      1987"
      ]
     },
     "execution_count": 6,
     "metadata": {},
     "output_type": "execute_result"
    }
   ],
   "source": [
    "#we'll focus on the columns mentioned above and drop the rest\n",
    "house_df.drop(columns=['id','lat','long','sqft_lot','floors','waterfront','view','zipcode','sqft_living15','sqft_lot15','grade','yr_renovated','sqft_above','sqft_basement'],inplace=True)\n",
    "house_df.head()"
   ]
  },
  {
   "cell_type": "code",
   "execution_count": 7,
   "metadata": {},
   "outputs": [
    {
     "data": {
      "text/plain": [
       "date           0\n",
       "price          0\n",
       "bedrooms       0\n",
       "bathrooms      0\n",
       "sqft_living    0\n",
       "condition      0\n",
       "yr_built       0\n",
       "dtype: int64"
      ]
     },
     "execution_count": 7,
     "metadata": {},
     "output_type": "execute_result"
    }
   ],
   "source": [
    "#checking for for null values\n",
    "house_df.isna().sum()"
   ]
  },
  {
   "cell_type": "markdown",
   "metadata": {},
   "source": [
    "## Feature engineering \n",
    "- we'll convert date to datetime format, extract the year from date column then create a new column for sell year. \n",
    "- The goal is to get the age of the house as shown below\n",
    "\n",
    "- we'll also deal with the categorical column in our dataset. \n",
    "- The context and order of our categorical column shows a meaningful order \n",
    "- as it can capture the notion that higher numerical value represents better condition \n",
    "-meaning the assumption of ordinality is reasonable for our dataset therefore our linear regression model might benefit from the following encoding."
   ]
  },
  {
   "cell_type": "code",
   "execution_count": 8,
   "metadata": {},
   "outputs": [],
   "source": [
    "#converting date to datetime format\n",
    "house_df['date']=pd.to_datetime(house_df['date'])\n",
    "#extracting year from date column\n",
    "house_df.date=house_df['date'].dt.year\n",
    "\n",
    "# Creating a new column for sell year\n",
    "house_df['sell_yr'] = pd.to_datetime(house_df['date'],format='%Y').dt.year\n",
    "house_df.drop(columns='date', inplace=True)"
   ]
  },
  {
   "cell_type": "code",
   "execution_count": 9,
   "metadata": {},
   "outputs": [],
   "source": [
    "#creating column house age at year of sale\n",
    "house_df['house_age']=house_df['sell_yr']-house_df['yr_built']\n"
   ]
  },
  {
   "cell_type": "code",
   "execution_count": 10,
   "metadata": {},
   "outputs": [],
   "source": [
    "#transformation of categorical values 'condition' column\n",
    "house_df['condition'].replace(to_replace=['Poor', 'Fair', 'Average', 'Good', 'Very Good'], value=[1, 2, 3, 4, 5], inplace=True)"
   ]
  },
  {
   "cell_type": "code",
   "execution_count": 11,
   "metadata": {},
   "outputs": [],
   "source": [
    "# Explicitly converting the 'sell_yr' column to int64\n",
    "house_df['sell_yr'] = house_df['sell_yr'].astype('int64')"
   ]
  },
  {
   "cell_type": "code",
   "execution_count": 12,
   "metadata": {},
   "outputs": [
    {
     "name": "stdout",
     "output_type": "stream",
     "text": [
      "<class 'pandas.core.frame.DataFrame'>\n",
      "RangeIndex: 21597 entries, 0 to 21596\n",
      "Data columns (total 8 columns):\n",
      " #   Column       Non-Null Count  Dtype  \n",
      "---  ------       --------------  -----  \n",
      " 0   price        21597 non-null  float64\n",
      " 1   bedrooms     21597 non-null  int64  \n",
      " 2   bathrooms    21597 non-null  float64\n",
      " 3   sqft_living  21597 non-null  int64  \n",
      " 4   condition    21597 non-null  int64  \n",
      " 5   yr_built     21597 non-null  int64  \n",
      " 6   sell_yr      21597 non-null  int64  \n",
      " 7   house_age    21597 non-null  int64  \n",
      "dtypes: float64(2), int64(6)\n",
      "memory usage: 1.3 MB\n"
     ]
    }
   ],
   "source": [
    "house_df.info()"
   ]
  },
  {
   "cell_type": "markdown",
   "metadata": {},
   "source": [
    "#### Dealing with the outliers"
   ]
  },
  {
   "cell_type": "code",
   "execution_count": 13,
   "metadata": {
    "scrolled": true
   },
   "outputs": [
    {
     "name": "stdout",
     "output_type": "stream",
     "text": [
      "Indices of outliers:\n",
      "(array([    5,     5,    21,    36,   153,   153,   246,   269,   269,\n",
      "         270,   270,   282,   300,   300,   312,   380,   397,   419,\n",
      "         436,   450,   484,   486,   518,   527,   527,   540,   540,\n",
      "         556,   556,   577,   656,   779,   779,   814,   814,  1030,\n",
      "        1054,  1054,  1099,  1099,  1121,  1134,  1150,  1159,  1161,\n",
      "        1162,  1162,  1162,  1215,  1239,  1245,  1259,  1270,  1280,\n",
      "        1292,  1313,  1313,  1313,  1359,  1394,  1418,  1431,  1434,\n",
      "        1440,  1446,  1446,  1446,  1537,  1620,  1658,  1658,  1674,\n",
      "        1728,  1730,  1732,  1768,  1805,  1846,  1846,  1919,  1919,\n",
      "        1942,  1943,  2038,  2038,  2083,  2083,  2086,  2111,  2123,\n",
      "        2134,  2138,  2177,  2198,  2221,  2234,  2234,  2234,  2265,\n",
      "        2265,  2318,  2343,  2381,  2397,  2442,  2442,  2459,  2459,\n",
      "        2459,  2471,  2563,  2576,  2618,  2618,  2624,  2624,  2624,\n",
      "        2666,  2666,  2711,  2843,  2856,  2856,  2862,  2862,  2897,\n",
      "        2897,  2972,  2972,  3002,  3018,  3018,  3018,  3033,  3037,\n",
      "        3089,  3098,  3098,  3118,  3118,  3154,  3199,  3201,  3226,\n",
      "        3228,  3249,  3255,  3278,  3335,  3335,  3341,  3375,  3381,\n",
      "        3381,  3381,  3515,  3515,  3582,  3704,  3704,  3717,  3717,\n",
      "        3717,  3722,  3731,  3744,  3757,  3765,  3773,  3809,  3809,\n",
      "        3857,  3867,  3867,  3867,  3910,  3910,  3910,  3950,  3971,\n",
      "        4009,  4020,  4020,  4020,  4028,  4028,  4031,  4031,  4031,\n",
      "        4063,  4092,  4092,  4145,  4145,  4145,  4186,  4186,  4214,\n",
      "        4231,  4251,  4264,  4335,  4402,  4404,  4407,  4407,  4407,\n",
      "        4424,  4482,  4577,  4594,  4631,  4647,  4692,  4692,  4713,\n",
      "        4756,  4758,  4807,  4807,  4855,  4863,  4917,  4918,  4962,\n",
      "        5019,  5024,  5044,  5054,  5058,  5112,  5205,  5407,  5428,\n",
      "        5444,  5444,  5446,  5446,  5584,  5595,  5612,  5697,  5697,\n",
      "        5697,  5744,  5822,  5824,  5858,  5874,  5874,  5874,  5961,\n",
      "        5961,  6035,  6035,  6039,  6073,  6073,  6168,  6189,  6189,\n",
      "        6191,  6227,  6227,  6227,  6329,  6383,  6384,  6386,  6396,\n",
      "        6493,  6493,  6495,  6495,  6495,  6502,  6502,  6502,  6622,\n",
      "        6685,  6708,  6734,  6765,  6777,  6788,  6946,  6978,  6995,\n",
      "        7001,  7016,  7028,  7028,  7028,  7070,  7120,  7120,  7153,\n",
      "        7184,  7184,  7184,  7184,  7195,  7245,  7245,  7245,  7273,\n",
      "        7304,  7306,  7339,  7369,  7380,  7408,  7408,  7425,  7499,\n",
      "        7538,  7538,  7571,  7629,  7644,  7645,  7661,  7674,  7693,\n",
      "        7837,  7879,  7900,  7900,  7900,  7904,  7926,  7982,  7982,\n",
      "        7982,  8023,  8042,  8085,  8085,  8085,  8113,  8145,  8184,\n",
      "        8184,  8184,  8188,  8215,  8259,  8322,  8337,  8355,  8436,\n",
      "        8436,  8507,  8537,  8537,  8620,  8629,  8629,  8748,  8775,\n",
      "        8901,  8905,  9067,  9068,  9105,  9106,  9123,  9166,  9244,\n",
      "        9244,  9245,  9245,  9245,  9265,  9265,  9265,  9313,  9313,\n",
      "        9324,  9366,  9366,  9405,  9440,  9443,  9450,  9450,  9478,\n",
      "        9503,  9510,  9544,  9544,  9564,  9594,  9599,  9650,  9670,\n",
      "        9705,  9723,  9728,  9802,  9826,  9830,  9868,  9943,  9943,\n",
      "        9983, 10074, 10074, 10252, 10264, 10272, 10362, 10362, 10362,\n",
      "       10374, 10435, 10454, 10457, 10513, 10514, 10527, 10595, 10775,\n",
      "       10805, 10805, 10901, 10901, 10939, 10939, 10946, 10946, 10968,\n",
      "       11061, 11093, 11093, 11093, 11160, 11213, 11213, 11221, 11245,\n",
      "       11245, 11266, 11272, 11272, 11386, 11390, 11434, 11453, 11486,\n",
      "       11523, 11560, 11562, 11608, 11661, 11661, 11673, 11730, 11736,\n",
      "       11736, 11736, 11741, 11758, 11817, 11817, 11859, 11859, 11871,\n",
      "       11940, 11963, 11966, 11968, 12005, 12005, 12174, 12176, 12216,\n",
      "       12271, 12271, 12271, 12275, 12283, 12286, 12294, 12338, 12353,\n",
      "       12358, 12358, 12358, 12441, 12447, 12497, 12565, 12574, 12593,\n",
      "       12596, 12601, 12636, 12638, 12655, 12700, 12752, 12752, 12764,\n",
      "       12764, 12764, 12764, 12813, 12859, 12859, 12872, 13007, 13055,\n",
      "       13055, 13058, 13107, 13110, 13183, 13183, 13222, 13243, 13254,\n",
      "       13258, 13267, 13281, 13301, 13301, 13387, 13387, 13387, 13398,\n",
      "       13398, 13398, 13479, 13515, 13529, 13608, 13615, 13616, 13662,\n",
      "       13687, 13697, 13697, 13697, 13745, 13757, 13774, 13838, 13856,\n",
      "       13894, 13894, 13954, 13971, 14017, 14017, 14017, 14019, 14019,\n",
      "       14039, 14070, 14070, 14070, 14126, 14172, 14188, 14219, 14219,\n",
      "       14241, 14284, 14294, 14294, 14295, 14295, 14372, 14385, 14406,\n",
      "       14499, 14499, 14499, 14536, 14542, 14542, 14542, 14605, 14671,\n",
      "       14760, 14802, 14802, 14802, 14808, 14885, 14901, 14966, 14973,\n",
      "       15008, 15008, 15025, 15035, 15035, 15056, 15094, 15121, 15138,\n",
      "       15144, 15147, 15152, 15166, 15190, 15208, 15208, 15232, 15232,\n",
      "       15232, 15232, 15241, 15244, 15249, 15249, 15279, 15323, 15333,\n",
      "       15357, 15363, 15401, 15468, 15468, 15498, 15507, 15539, 15539,\n",
      "       15546, 15553, 15553, 15578, 15578, 15618, 15653, 15654, 15654,\n",
      "       15656, 15665, 15698, 15708, 15737, 15737, 15750, 15779, 15814,\n",
      "       15814, 15814, 15834, 15856, 15881, 15898, 16110, 16179, 16179,\n",
      "       16184, 16238, 16244, 16288, 16288, 16299, 16375, 16416, 16416,\n",
      "       16434, 16434, 16434, 16511, 16566, 16600, 16600, 16706, 16706,\n",
      "       16715, 16722, 16759, 16759, 16759, 16789, 16790, 16803, 16811,\n",
      "       16811, 16830, 16874, 16879, 16928, 16930, 16955, 16955, 16955,\n",
      "       16987, 16987, 17123, 17137, 17216, 17221, 17221, 17274, 17274,\n",
      "       17275, 17298, 17314, 17321, 17387, 17393, 17445, 17499, 17544,\n",
      "       17544, 17582, 17586, 17633, 17665, 17665, 17753, 17791, 17824,\n",
      "       17824, 17824, 17885, 17885, 17885, 17946, 17966, 17981, 18055,\n",
      "       18061, 18087, 18087, 18132, 18132, 18132, 18185, 18186, 18192,\n",
      "       18192, 18194, 18212, 18252, 18273, 18273, 18273, 18288, 18288,\n",
      "       18288, 18314, 18314, 18318, 18352, 18394, 18394, 18394, 18399,\n",
      "       18399, 18412, 18417, 18428, 18440, 18445, 18445, 18462, 18462,\n",
      "       18462, 18467, 18467, 18496, 18541, 18579, 18630, 18711, 18753,\n",
      "       18776, 18778, 18808, 18813, 18860, 18861, 18867, 18897, 18960,\n",
      "       18960, 18960, 19002, 19002, 19133, 19133, 19133, 19200, 19200,\n",
      "       19216, 19221, 19239, 19257, 19287, 19308, 19312, 19336, 19388,\n",
      "       19431, 19431, 19445, 19468, 19513, 19538, 19548, 19640, 19654,\n",
      "       19665, 19668, 19720, 19735, 19742, 19748, 19761, 19777, 19798,\n",
      "       19807, 19807, 19809, 19832, 19832, 19842, 19842, 19860, 19945,\n",
      "       19945, 19968, 19994, 19994, 19994, 20076, 20076, 20080, 20080,\n",
      "       20120, 20120, 20136, 20138, 20138, 20152, 20208, 20217, 20217,\n",
      "       20217, 20228, 20231, 20235, 20251, 20251, 20279, 20280, 20309,\n",
      "       20310, 20310, 20353, 20425, 20425, 20436, 20436, 20444, 20444,\n",
      "       20455, 20455, 20484, 20511, 20511, 20518, 20519, 20547, 20562,\n",
      "       20562, 20591, 20648, 20648, 20648, 20751, 20812, 20814, 20814,\n",
      "       20822, 20822, 20876, 20881, 20904, 20907, 20950, 20968, 20980,\n",
      "       21024, 21024, 21034, 21034, 21125, 21132, 21132, 21150, 21170,\n",
      "       21185, 21242, 21267, 21294, 21294, 21300, 21317, 21317, 21328,\n",
      "       21328, 21352, 21367, 21451, 21451, 21457, 21469, 21478, 21490,\n",
      "       21490, 21490, 21498, 21504, 21505, 21514, 21514, 21524, 21535,\n",
      "       21552, 21560, 21560, 21560, 21574], dtype=int64), array([2, 3, 0, 4, 0, 3, 0, 0, 3, 2, 3, 0, 0, 2, 0, 4, 4, 3, 3, 2, 3, 3,\n",
      "       0, 2, 3, 0, 3, 0, 1, 3, 0, 0, 3, 0, 3, 0, 2, 3, 2, 3, 2, 1, 0, 0,\n",
      "       2, 0, 2, 3, 0, 1, 2, 2, 0, 0, 3, 0, 2, 3, 0, 3, 0, 0, 2, 4, 0, 2,\n",
      "       3, 3, 3, 1, 2, 0, 0, 0, 4, 0, 3, 2, 3, 2, 3, 0, 0, 0, 3, 0, 3, 3,\n",
      "       2, 3, 0, 0, 0, 0, 4, 0, 2, 3, 0, 3, 0, 2, 3, 3, 0, 3, 0, 2, 3, 0,\n",
      "       0, 3, 2, 3, 0, 2, 3, 2, 3, 3, 2, 0, 3, 0, 3, 0, 3, 0, 3, 4, 0, 2,\n",
      "       3, 0, 0, 0, 2, 3, 2, 3, 0, 4, 3, 0, 3, 2, 0, 0, 0, 3, 0, 2, 0, 2,\n",
      "       3, 0, 3, 2, 2, 3, 1, 2, 3, 2, 0, 0, 0, 0, 0, 0, 3, 0, 0, 2, 3, 0,\n",
      "       2, 3, 3, 4, 0, 1, 2, 3, 0, 3, 0, 1, 2, 1, 1, 2, 0, 2, 3, 0, 3, 0,\n",
      "       1, 2, 0, 0, 0, 0, 0, 2, 3, 0, 0, 3, 2, 0, 4, 2, 3, 1, 1, 0, 0, 3,\n",
      "       0, 1, 0, 0, 3, 2, 3, 3, 3, 3, 2, 2, 2, 0, 0, 3, 0, 3, 0, 0, 0, 0,\n",
      "       2, 3, 0, 0, 0, 0, 0, 2, 3, 0, 3, 0, 3, 0, 1, 2, 1, 0, 3, 0, 0, 2,\n",
      "       3, 0, 2, 3, 3, 0, 0, 2, 0, 2, 3, 0, 2, 3, 3, 0, 0, 0, 0, 0, 0, 3,\n",
      "       3, 0, 2, 1, 0, 2, 3, 0, 0, 3, 2, 0, 1, 2, 3, 2, 0, 2, 3, 3, 0, 0,\n",
      "       3, 4, 0, 0, 2, 0, 0, 2, 3, 0, 4, 2, 0, 2, 3, 0, 0, 0, 0, 2, 3, 0,\n",
      "       0, 0, 2, 3, 2, 0, 0, 2, 3, 1, 0, 0, 2, 3, 3, 0, 2, 0, 3, 3, 0, 3,\n",
      "       1, 1, 2, 1, 0, 3, 1, 0, 0, 2, 3, 1, 2, 2, 1, 0, 0, 3, 0, 2, 3, 0,\n",
      "       2, 3, 0, 3, 3, 2, 3, 0, 0, 1, 2, 3, 0, 3, 3, 0, 3, 0, 3, 0, 1, 0,\n",
      "       3, 1, 0, 2, 0, 3, 0, 2, 3, 0, 0, 3, 0, 1, 3, 0, 2, 3, 3, 0, 0, 0,\n",
      "       0, 3, 0, 2, 1, 0, 3, 0, 3, 2, 3, 0, 1, 3, 0, 0, 2, 3, 2, 0, 3, 0,\n",
      "       0, 3, 0, 0, 2, 0, 0, 0, 0, 2, 0, 3, 0, 0, 0, 3, 3, 2, 0, 2, 3, 3,\n",
      "       0, 0, 3, 0, 3, 3, 0, 0, 2, 2, 1, 3, 0, 0, 2, 0, 2, 3, 0, 0, 2, 4,\n",
      "       0, 3, 0, 2, 3, 4, 0, 0, 0, 2, 1, 1, 0, 0, 0, 4, 0, 1, 2, 0, 1, 2,\n",
      "       3, 0, 0, 3, 1, 0, 0, 2, 0, 1, 2, 0, 3, 0, 0, 0, 0, 0, 0, 1, 2, 0,\n",
      "       2, 3, 0, 2, 3, 0, 0, 0, 0, 4, 4, 0, 0, 0, 2, 3, 0, 3, 0, 0, 0, 2,\n",
      "       3, 0, 0, 0, 1, 3, 0, 3, 0, 0, 2, 3, 0, 0, 1, 0, 3, 0, 3, 0, 3, 0,\n",
      "       3, 0, 2, 3, 0, 2, 3, 0, 0, 2, 3, 0, 3, 3, 0, 2, 3, 0, 2, 1, 2, 4,\n",
      "       0, 1, 0, 2, 3, 1, 3, 0, 0, 0, 1, 0, 0, 0, 2, 3, 0, 1, 2, 3, 0, 0,\n",
      "       0, 2, 4, 4, 3, 4, 0, 0, 0, 3, 0, 1, 0, 2, 3, 0, 3, 0, 2, 0, 0, 0,\n",
      "       3, 1, 0, 4, 0, 1, 2, 0, 2, 0, 2, 3, 3, 1, 2, 2, 0, 0, 2, 4, 0, 0,\n",
      "       0, 3, 1, 0, 0, 3, 0, 2, 3, 0, 0, 0, 3, 0, 3, 3, 1, 0, 2, 3, 2, 0,\n",
      "       0, 0, 2, 1, 3, 4, 4, 0, 0, 2, 3, 0, 2, 0, 0, 0, 0, 1, 0, 3, 2, 0,\n",
      "       0, 1, 3, 0, 0, 2, 0, 3, 0, 3, 3, 0, 2, 0, 4, 0, 2, 3, 0, 2, 3, 3,\n",
      "       0, 0, 0, 0, 0, 3, 0, 2, 3, 0, 2, 0, 3, 0, 0, 3, 0, 2, 3, 0, 2, 3,\n",
      "       0, 2, 4, 3, 0, 2, 3, 2, 3, 2, 0, 1, 0, 1, 2, 0, 1, 3, 0, 3, 0, 0,\n",
      "       3, 4, 2, 0, 0, 0, 1, 0, 0, 4, 0, 0, 1, 2, 3, 0, 3, 0, 2, 3, 0, 3,\n",
      "       3, 0, 1, 0, 1, 0, 1, 0, 2, 0, 3, 2, 0, 0, 3, 3, 2, 3, 0, 0, 0, 2,\n",
      "       0, 3, 0, 2, 2, 0, 3, 3, 0, 2, 0, 3, 2, 0, 2, 0, 0, 2, 3, 0, 2, 0,\n",
      "       2, 2, 3, 3, 0, 2, 0, 0, 0, 2, 3, 2, 0, 2, 2, 3, 0, 3, 0, 0, 3, 0,\n",
      "       0, 3, 2, 3, 0, 3, 0, 3, 0, 0, 2, 2, 0, 3, 2, 3, 2, 0, 2, 3, 0, 0,\n",
      "       0, 3, 2, 3, 3, 0, 0, 3, 2, 2, 3, 0, 3, 2, 3, 0, 0, 2, 0, 2, 0, 3,\n",
      "       2, 0, 3, 0, 0, 3, 2, 3, 0, 0, 0, 3, 0, 0, 2, 0, 2, 3, 0, 3, 3, 0,\n",
      "       3, 0, 2, 0, 0, 2, 3, 3], dtype=int64))\n"
     ]
    },
    {
     "data": {
      "text/html": [
       "<div>\n",
       "<style scoped>\n",
       "    .dataframe tbody tr th:only-of-type {\n",
       "        vertical-align: middle;\n",
       "    }\n",
       "\n",
       "    .dataframe tbody tr th {\n",
       "        vertical-align: top;\n",
       "    }\n",
       "\n",
       "    .dataframe thead th {\n",
       "        text-align: right;\n",
       "    }\n",
       "</style>\n",
       "<table border=\"1\" class=\"dataframe\">\n",
       "  <thead>\n",
       "    <tr style=\"text-align: right;\">\n",
       "      <th></th>\n",
       "      <th>price</th>\n",
       "      <th>bedrooms</th>\n",
       "      <th>bathrooms</th>\n",
       "      <th>sqft_living</th>\n",
       "      <th>condition</th>\n",
       "      <th>yr_built</th>\n",
       "      <th>sell_yr</th>\n",
       "      <th>house_age</th>\n",
       "    </tr>\n",
       "  </thead>\n",
       "  <tbody>\n",
       "    <tr>\n",
       "      <th>0</th>\n",
       "      <td>221900.0</td>\n",
       "      <td>3</td>\n",
       "      <td>1.00</td>\n",
       "      <td>1180</td>\n",
       "      <td>3</td>\n",
       "      <td>1955</td>\n",
       "      <td>2014</td>\n",
       "      <td>59</td>\n",
       "    </tr>\n",
       "    <tr>\n",
       "      <th>1</th>\n",
       "      <td>538000.0</td>\n",
       "      <td>3</td>\n",
       "      <td>2.25</td>\n",
       "      <td>2570</td>\n",
       "      <td>3</td>\n",
       "      <td>1951</td>\n",
       "      <td>2014</td>\n",
       "      <td>63</td>\n",
       "    </tr>\n",
       "    <tr>\n",
       "      <th>2</th>\n",
       "      <td>180000.0</td>\n",
       "      <td>2</td>\n",
       "      <td>1.00</td>\n",
       "      <td>770</td>\n",
       "      <td>3</td>\n",
       "      <td>1933</td>\n",
       "      <td>2015</td>\n",
       "      <td>82</td>\n",
       "    </tr>\n",
       "    <tr>\n",
       "      <th>3</th>\n",
       "      <td>604000.0</td>\n",
       "      <td>4</td>\n",
       "      <td>3.00</td>\n",
       "      <td>1960</td>\n",
       "      <td>5</td>\n",
       "      <td>1965</td>\n",
       "      <td>2014</td>\n",
       "      <td>49</td>\n",
       "    </tr>\n",
       "    <tr>\n",
       "      <th>4</th>\n",
       "      <td>510000.0</td>\n",
       "      <td>3</td>\n",
       "      <td>2.00</td>\n",
       "      <td>1680</td>\n",
       "      <td>3</td>\n",
       "      <td>1987</td>\n",
       "      <td>2015</td>\n",
       "      <td>28</td>\n",
       "    </tr>\n",
       "    <tr>\n",
       "      <th>...</th>\n",
       "      <td>...</td>\n",
       "      <td>...</td>\n",
       "      <td>...</td>\n",
       "      <td>...</td>\n",
       "      <td>...</td>\n",
       "      <td>...</td>\n",
       "      <td>...</td>\n",
       "      <td>...</td>\n",
       "    </tr>\n",
       "    <tr>\n",
       "      <th>21592</th>\n",
       "      <td>360000.0</td>\n",
       "      <td>3</td>\n",
       "      <td>2.50</td>\n",
       "      <td>1530</td>\n",
       "      <td>3</td>\n",
       "      <td>2009</td>\n",
       "      <td>2014</td>\n",
       "      <td>5</td>\n",
       "    </tr>\n",
       "    <tr>\n",
       "      <th>21593</th>\n",
       "      <td>400000.0</td>\n",
       "      <td>4</td>\n",
       "      <td>2.50</td>\n",
       "      <td>2310</td>\n",
       "      <td>3</td>\n",
       "      <td>2014</td>\n",
       "      <td>2015</td>\n",
       "      <td>1</td>\n",
       "    </tr>\n",
       "    <tr>\n",
       "      <th>21594</th>\n",
       "      <td>402101.0</td>\n",
       "      <td>2</td>\n",
       "      <td>0.75</td>\n",
       "      <td>1020</td>\n",
       "      <td>3</td>\n",
       "      <td>2009</td>\n",
       "      <td>2014</td>\n",
       "      <td>5</td>\n",
       "    </tr>\n",
       "    <tr>\n",
       "      <th>21595</th>\n",
       "      <td>400000.0</td>\n",
       "      <td>3</td>\n",
       "      <td>2.50</td>\n",
       "      <td>1600</td>\n",
       "      <td>3</td>\n",
       "      <td>2004</td>\n",
       "      <td>2015</td>\n",
       "      <td>11</td>\n",
       "    </tr>\n",
       "    <tr>\n",
       "      <th>21596</th>\n",
       "      <td>325000.0</td>\n",
       "      <td>2</td>\n",
       "      <td>0.75</td>\n",
       "      <td>1020</td>\n",
       "      <td>3</td>\n",
       "      <td>2008</td>\n",
       "      <td>2014</td>\n",
       "      <td>6</td>\n",
       "    </tr>\n",
       "  </tbody>\n",
       "</table>\n",
       "<p>20925 rows × 8 columns</p>\n",
       "</div>"
      ],
      "text/plain": [
       "          price  bedrooms  bathrooms  sqft_living  condition  yr_built  \\\n",
       "0      221900.0         3       1.00         1180          3      1955   \n",
       "1      538000.0         3       2.25         2570          3      1951   \n",
       "2      180000.0         2       1.00          770          3      1933   \n",
       "3      604000.0         4       3.00         1960          5      1965   \n",
       "4      510000.0         3       2.00         1680          3      1987   \n",
       "...         ...       ...        ...          ...        ...       ...   \n",
       "21592  360000.0         3       2.50         1530          3      2009   \n",
       "21593  400000.0         4       2.50         2310          3      2014   \n",
       "21594  402101.0         2       0.75         1020          3      2009   \n",
       "21595  400000.0         3       2.50         1600          3      2004   \n",
       "21596  325000.0         2       0.75         1020          3      2008   \n",
       "\n",
       "       sell_yr  house_age  \n",
       "0         2014         59  \n",
       "1         2014         63  \n",
       "2         2015         82  \n",
       "3         2014         49  \n",
       "4         2015         28  \n",
       "...        ...        ...  \n",
       "21592     2014          5  \n",
       "21593     2015          1  \n",
       "21594     2014          5  \n",
       "21595     2015         11  \n",
       "21596     2014          6  \n",
       "\n",
       "[20925 rows x 8 columns]"
      ]
     },
     "execution_count": 13,
     "metadata": {},
     "output_type": "execute_result"
    }
   ],
   "source": [
    "#Dealing with the outliers\n",
    "\n",
    "#Loading the dataset\n",
    "\n",
    "df = house_df\n",
    "\n",
    "# choosing a threshold of 3 for the z-score\n",
    "z_score_threshold = 3  \n",
    "\n",
    "# Calculating the z-scores for each data point\n",
    "z_scores = np.abs(stats.zscore(df))\n",
    "\n",
    "# Identify outliers based on the threshold\n",
    "outliers = np.where(z_scores > z_score_threshold)\n",
    "\n",
    "#Printing the indices of the outliers\n",
    "print(\"Indices of outliers:\")\n",
    "print(outliers)\n",
    "\n",
    "# Removing the outliers from our dataset\n",
    "cleaned_house_df = df[(z_scores < z_score_threshold).all(axis=1)].copy()\n",
    "cleaned_house_df"
   ]
  },
  {
   "cell_type": "markdown",
   "metadata": {},
   "source": [
    "# EXPLANATORY DATA ANALYSIS\n",
    "In this section, we will perform exploratory data analysis (EDA) to understand the data better and discover any patterns, trends using univariate,bivariate and multivariate analysis\n",
    "\n",
    "We will use descriptive statistics and visualizations to summarize the main characteristics of the data and examine the relationships between the features and the target variable.\n",
    "\n",
    "We will also check the distribution and correlation of the variables and identify any potential problems or opportunities for the analysis.\n",
    "\n"
   ]
  },
  {
   "cell_type": "markdown",
   "metadata": {},
   "source": [
    "# Univariate Analysis\n",
    "- Univariate analysis involves the examination of single variables.We focus in the summary statistics of target variable-price to help us undersatand the distribution and skewness of house prices"
   ]
  },
  {
   "cell_type": "code",
   "execution_count": 14,
   "metadata": {},
   "outputs": [
    {
     "name": "stdout",
     "output_type": "stream",
     "text": [
      "Basic Statistics of Price:\n",
      " count    2.092500e+04\n",
      "mean     5.018273e+05\n",
      "std      2.527614e+05\n",
      "min      8.000000e+04\n",
      "25%      3.199000e+05\n",
      "50%      4.450000e+05\n",
      "75%      6.248000e+05\n",
      "max      1.640000e+06\n",
      "Name: price, dtype: float64\n"
     ]
    },
    {
     "data": {
      "image/png": "[encoded data removed]",
      "text/plain": [
       "<Figure size 1000x600 with 1 Axes>"
      ]
     },
     "metadata": {},
     "output_type": "display_data"
    }
   ],
   "source": [
    "# Display summary statistics of the 'price' variable\n",
    "price_stats = cleaned_house_df['price'].describe()\n",
    "print(\"Basic Statistics of Price:\\n\", price_stats)\n",
    "\n",
    "# Visualizing the distribution of 'price' using a histogram\n",
    "plt.figure(figsize=(10, 6))\n",
    "sns.histplot(cleaned_house_df['price'], bins=50, kde=True, color='green')\n",
    "plt.title('Distribution of Price')\n",
    "plt.xlabel('Price')\n",
    "plt.ylabel('Frequency')\n",
    "plt.show()\n",
    "\n"
   ]
  },
  {
   "cell_type": "markdown",
   "metadata": {},
   "source": [
    "- The histogram shows that the distribution of house price is positively skewed suggesting that while most houses are concentrated around lower to mid-range prices, there are some properties with significantly higher prices.\n",
    "\n",
    "- The summary statistics provides more details on distribution of price.The average house price is approximately USD 438,010.1,the maximum and minimum price indicates USD 1,120,000 and  82,000 respectively.The standard deviation is USD 180,238.9 indicates that the prices have a notable amount variability around the mean."
   ]
  },
  {
   "cell_type": "code",
   "execution_count": 15,
   "metadata": {},
   "outputs": [
    {
     "data": {
      "image/png": "[encoded data removed]",
      "text/plain": [
       "<Figure size 800x500 with 1 Axes>"
      ]
     },
     "metadata": {},
     "output_type": "display_data"
    }
   ],
   "source": [
    "# Visualize the boxplot of 'price' to identify outliers\n",
    "plt.figure(figsize=(8, 5))\n",
    "sns.boxplot(x=cleaned_house_df['price'], color='green')\n",
    "plt.title('Boxplot of Price')\n",
    "plt.xlabel('Price')\n",
    "plt.show()"
   ]
  },
  {
   "cell_type": "markdown",
   "metadata": {},
   "source": [
    "- The box plot confirms the pice is  positively skewed as indicated by longer right tail the points beyond whiskers suggests the existence of potential outliers\n",
    "- The median line closer to the lower edge of the box is consintent with positively skewed distribution showing that majority of prices are concentrated towards the lower end with fewer houses having higher prices"
   ]
  },
  {
   "cell_type": "markdown",
   "metadata": {},
   "source": [
    "# Bivariate Analysis\n",
    "\n",
    "In this section, we will perform bivariate analysis to examine the relationship between the target variable - price and the other numeric and continuous features in the data. We will use scatter plots to show the direction, strength, and shape of the relationship between two numeric variables. This will help us understand how one variable affects or is affected by another variable and identify any patterns or trends that may exist."
   ]
  },
  {
   "cell_type": "code",
   "execution_count": 16,
   "metadata": {},
   "outputs": [
    {
     "ename": "ValueError",
     "evalue": "x and y must be the same size",
     "output_type": "error",
     "traceback": [
      "\u001b[1;31m---------------------------------------------------------------------------\u001b[0m",
      "\u001b[1;31mValueError\u001b[0m                                Traceback (most recent call last)",
      "Cell \u001b[1;32mIn[16], line 9\u001b[0m\n\u001b[0;32m      7\u001b[0m row \u001b[38;5;241m=\u001b[39m i \u001b[38;5;241m/\u001b[39m\u001b[38;5;241m/\u001b[39m \u001b[38;5;241m3\u001b[39m\n\u001b[0;32m      8\u001b[0m col \u001b[38;5;241m=\u001b[39m i \u001b[38;5;241m%\u001b[39m \u001b[38;5;241m3\u001b[39m\n\u001b[1;32m----> 9\u001b[0m axes[row, col]\u001b[38;5;241m.\u001b[39mscatter(house_df[var],cleaned_house_df[\u001b[38;5;124m'\u001b[39m\u001b[38;5;124mprice\u001b[39m\u001b[38;5;124m'\u001b[39m])\n\u001b[0;32m     10\u001b[0m axes[row, col]\u001b[38;5;241m.\u001b[39mset_xlabel(var)\n\u001b[0;32m     11\u001b[0m axes[row, col]\u001b[38;5;241m.\u001b[39mset_ylabel(\u001b[38;5;124m'\u001b[39m\u001b[38;5;124mPrice\u001b[39m\u001b[38;5;124m'\u001b[39m)\n",
      "File \u001b[1;32m~\\Documents\\Anaconda\\Lib\\site-packages\\matplotlib\\__init__.py:1446\u001b[0m, in \u001b[0;36m_preprocess_data.<locals>.inner\u001b[1;34m(ax, data, *args, **kwargs)\u001b[0m\n\u001b[0;32m   1443\u001b[0m \u001b[38;5;129m@functools\u001b[39m\u001b[38;5;241m.\u001b[39mwraps(func)\n\u001b[0;32m   1444\u001b[0m \u001b[38;5;28;01mdef\u001b[39;00m \u001b[38;5;21minner\u001b[39m(ax, \u001b[38;5;241m*\u001b[39margs, data\u001b[38;5;241m=\u001b[39m\u001b[38;5;28;01mNone\u001b[39;00m, \u001b[38;5;241m*\u001b[39m\u001b[38;5;241m*\u001b[39mkwargs):\n\u001b[0;32m   1445\u001b[0m     \u001b[38;5;28;01mif\u001b[39;00m data \u001b[38;5;129;01mis\u001b[39;00m \u001b[38;5;28;01mNone\u001b[39;00m:\n\u001b[1;32m-> 1446\u001b[0m         \u001b[38;5;28;01mreturn\u001b[39;00m func(ax, \u001b[38;5;241m*\u001b[39m\u001b[38;5;28mmap\u001b[39m(sanitize_sequence, args), \u001b[38;5;241m*\u001b[39m\u001b[38;5;241m*\u001b[39mkwargs)\n\u001b[0;32m   1448\u001b[0m     bound \u001b[38;5;241m=\u001b[39m new_sig\u001b[38;5;241m.\u001b[39mbind(ax, \u001b[38;5;241m*\u001b[39margs, \u001b[38;5;241m*\u001b[39m\u001b[38;5;241m*\u001b[39mkwargs)\n\u001b[0;32m   1449\u001b[0m     auto_label \u001b[38;5;241m=\u001b[39m (bound\u001b[38;5;241m.\u001b[39marguments\u001b[38;5;241m.\u001b[39mget(label_namer)\n\u001b[0;32m   1450\u001b[0m                   \u001b[38;5;129;01mor\u001b[39;00m bound\u001b[38;5;241m.\u001b[39mkwargs\u001b[38;5;241m.\u001b[39mget(label_namer))\n",
      "File \u001b[1;32m~\\Documents\\Anaconda\\Lib\\site-packages\\matplotlib\\axes\\_axes.py:4578\u001b[0m, in \u001b[0;36mAxes.scatter\u001b[1;34m(self, x, y, s, c, marker, cmap, norm, vmin, vmax, alpha, linewidths, edgecolors, plotnonfinite, **kwargs)\u001b[0m\n\u001b[0;32m   4576\u001b[0m y \u001b[38;5;241m=\u001b[39m np\u001b[38;5;241m.\u001b[39mma\u001b[38;5;241m.\u001b[39mravel(y)\n\u001b[0;32m   4577\u001b[0m \u001b[38;5;28;01mif\u001b[39;00m x\u001b[38;5;241m.\u001b[39msize \u001b[38;5;241m!=\u001b[39m y\u001b[38;5;241m.\u001b[39msize:\n\u001b[1;32m-> 4578\u001b[0m     \u001b[38;5;28;01mraise\u001b[39;00m \u001b[38;5;167;01mValueError\u001b[39;00m(\u001b[38;5;124m\"\u001b[39m\u001b[38;5;124mx and y must be the same size\u001b[39m\u001b[38;5;124m\"\u001b[39m)\n\u001b[0;32m   4580\u001b[0m \u001b[38;5;28;01mif\u001b[39;00m s \u001b[38;5;129;01mis\u001b[39;00m \u001b[38;5;28;01mNone\u001b[39;00m:\n\u001b[0;32m   4581\u001b[0m     s \u001b[38;5;241m=\u001b[39m (\u001b[38;5;241m20\u001b[39m \u001b[38;5;28;01mif\u001b[39;00m mpl\u001b[38;5;241m.\u001b[39mrcParams[\u001b[38;5;124m'\u001b[39m\u001b[38;5;124m_internal.classic_mode\u001b[39m\u001b[38;5;124m'\u001b[39m] \u001b[38;5;28;01melse\u001b[39;00m\n\u001b[0;32m   4582\u001b[0m          mpl\u001b[38;5;241m.\u001b[39mrcParams[\u001b[38;5;124m'\u001b[39m\u001b[38;5;124mlines.markersize\u001b[39m\u001b[38;5;124m'\u001b[39m] \u001b[38;5;241m*\u001b[39m\u001b[38;5;241m*\u001b[39m \u001b[38;5;241m2.0\u001b[39m)\n",
      "\u001b[1;31mValueError\u001b[0m: x and y must be the same size"
     ]
    },
    {
     "data": {
      "image/png": "[encoded data removed]",
      "text/plain": [
       "<Figure size 1500x1000 with 6 Axes>"
      ]
     },
     "metadata": {},
     "output_type": "display_data"
    }
   ],
   "source": [
    "#relationships between our target variable and other independent variables in the dataset\n",
    "variables = ['bedrooms','sqft_living','bathrooms','sell_yr','house_age','condition']\n",
    "num_rows = math.ceil(len(variables) / 3)\n",
    "fig, axes = plt.subplots(num_rows, 3, figsize=(15, num_rows * 5))\n",
    "\n",
    "for i, var in enumerate(variables):\n",
    "    row = i // 3\n",
    "    col = i % 3\n",
    "    axes[row, col].scatter(house_df[var],cleaned_house_df['price'])\n",
    "    axes[row, col].set_xlabel(var)\n",
    "    axes[row, col].set_ylabel('Price')\n",
    "    axes[row, col].set_title(f'Relationship between Price and {var}')\n",
    "\n",
    "plt.tight_layout()\n",
    "plt.show()"
   ]
  },
  {
   "cell_type": "markdown",
   "metadata": {},
   "source": [
    "- The scatter plots show that there is a positive relationship between most of the independent variables and the price of a house. This means that houses with higher values for these variables tend to be more expensive"
   ]
  },
  {
   "cell_type": "markdown",
   "metadata": {},
   "source": [
    "# Multivariate"
   ]
  },
  {
   "cell_type": "markdown",
   "metadata": {},
   "source": [
    "In this section, we will perform multivariate analysis to examine the relationship between the target variable - price and multiple features in the data. We will use heatmap to visualize the correlation matrix of the features and see how they are related to each other and to the price.\n",
    "\n",
    "A heatmap can show us the strength and direction of the correlation between two variables using different colors and shades. This will help us identify the most important features for the prediction and avoid multicollinearity problems."
   ]
  },
  {
   "cell_type": "code",
   "execution_count": null,
   "metadata": {},
   "outputs": [],
   "source": [
    "plt.figure(figsize=(15, 15))\n",
    "sns.heatmap(house_df.corr(), annot=True, cmap='coolwarm')\n",
    "plt.title('Correlation Matrix of King County Housing data')\n",
    "plt.show()"
   ]
  },
  {
   "cell_type": "markdown",
   "metadata": {},
   "source": [
    "- Positive correlations are typically represented by shades of red, and negative correlations by shades of blue.\n",
    "- We note that bathrooms and sqft_living are highly positively correlated.\n"
   ]
  },
  {
   "cell_type": "markdown",
   "metadata": {},
   "source": [
    "# Modeling\n",
    "\n",
    "In this section, we will build and evaluate both simple linear and multiple linear statistical models for the house price using the features we have selected and prepared in the previous sections. We will use linear regression to fit the models and compare their performance.We will evaluate to see whether our model is statistically significant.We will also use metrics such as mean absolute error (MAE), root mean squared error (RMSE),R-squared (R2) and Adj R-squared to measure the accuracy and goodness of fit of the models."
   ]
  },
  {
   "cell_type": "markdown",
   "metadata": {},
   "source": [
    "Our linear regression model is based on the following assumptions\n",
    "- Linearity: The relationship between the independent variables and the dependent variable is linear.\n",
    "- Homoscedasticity: The variance of residual is the same for any value of X."
   ]
  },
  {
   "cell_type": "markdown",
   "metadata": {},
   "source": [
    "## Simple linear regression"
   ]
  },
  {
   "cell_type": "code",
   "execution_count": null,
   "metadata": {
    "scrolled": false
   },
   "outputs": [],
   "source": [
    "#Relationship between our target variable 'price' and 'sqft_living'\n",
    "house_df.plot.scatter(x='sqft_living',y='price');"
   ]
  },
  {
   "cell_type": "markdown",
   "metadata": {},
   "source": [
    "- The graph depicts a linear relationship with the positive gradient."
   ]
  },
  {
   "cell_type": "markdown",
   "metadata": {},
   "source": [
    "### Baseline model"
   ]
  },
  {
   "cell_type": "code",
   "execution_count": null,
   "metadata": {
    "scrolled": false
   },
   "outputs": [],
   "source": [
    "import statsmodels.api as sm\n",
    "y = house_df[\"price\"]\n",
    "X_baseline = house_df[[\"sqft_living\"]]\n",
    "\n",
    "baseline_model = sm.OLS(y, sm.add_constant(X_baseline))\n",
    "baseline_results = baseline_model.fit()\n",
    "\n",
    "print(baseline_results.summary())"
   ]
  },
  {
   "cell_type": "code",
   "execution_count": null,
   "metadata": {},
   "outputs": [],
   "source": [
    "baseline_results.params"
   ]
  },
  {
   "cell_type": "markdown",
   "metadata": {},
   "source": [
    "### Evaluating and interpreting the results\n",
    "- The R-squared of 0.493 indicates that sqft_living explains 49.3% of the variation in  price. \n",
    "\n",
    "\n",
    "- The coefficient estimates show the relationship between the independent variable (sqft_living) and the dependent variable (price).The constant coefficient  is -43988.892194 representing the estimated price when sqft-living is zero.The coefficient of sqft_living shows that a unit increase in sqft_living is associated with an increase in price by approximately 280.863014.  \n",
    "\n",
    "\n",
    "- The p-values (P>|t|) associated with the coefficients determine their statistical significance. In this case, both the const and sqft_living coefficients have p-values of 0.000, indicating that the linear relationship is statistically significant.\n"
   ]
  },
  {
   "cell_type": "code",
   "execution_count": null,
   "metadata": {},
   "outputs": [],
   "source": [
    "#Visualizaton\n",
    "#fit the simple linear regression model\n",
    "y = house_df[\"price\"]\n",
    "X_baseline = house_df[\"sqft_living\"]\n",
    "\n",
    "# Addinding a constant term to the independent variable matrix\n",
    "X_baseline = sm.add_constant(X_baseline)\n",
    "\n",
    "# Creating and fitting the baseline model\n",
    "baseline_model = sm.OLS(y, X_baseline)\n",
    "baseline_results = baseline_model.fit()\n",
    "\n",
    "# Visualize the linearity\n",
    "plt.scatter(X_baseline['sqft_living'], y, label='Actual')  # Scatter plot of actual values\n",
    "plt.plot(X_baseline['sqft_living'], baseline_results.predict(), color='blue', label='Predicted')  # Line plot of predicted values\n",
    "plt.xlabel('sqft_living')\n",
    "plt.ylabel('Price')\n",
    "plt.title('Actual vs. Predicted Values')\n",
    "plt.legend()\n",
    "plt.show()"
   ]
  },
  {
   "cell_type": "markdown",
   "metadata": {},
   "source": [
    " ###### ploting_fit version of model fit"
   ]
  },
  {
   "cell_type": "code",
   "execution_count": null,
   "metadata": {},
   "outputs": [],
   "source": [
    "#visualizing the regression line to show model fit\n",
    "#Scatter plot of data points\n",
    "plt.scatter(house_df[\"sqft_living\"], house_df[\"price\"], label=\"Data points\")\n",
    "\n",
    "# Regression line\n",
    "x = np.linspace(house_df[\"sqft_living\"].min(), house_df[\"sqft_living\"].max(), 100)\n",
    "y = baseline_results.params[0] + baseline_results.params[1] * x\n",
    "plt.plot(x, y, color=\"black\", label=\"Regression line\")\n",
    "\n",
    "plt.xlabel(\"sqft_living\")\n",
    "plt.ylabel(\"Price\")\n",
    "plt.title(\"Regression Line - Model Fit\")\n",
    "plt.legend()\n",
    "plt.show()"
   ]
  },
  {
   "cell_type": "markdown",
   "metadata": {},
   "source": [
    "The plot helps to assess the linearity of the relationship between the house price and the square footage of living space.the model shows how well linear regression model fits the data."
   ]
  },
  {
   "cell_type": "markdown",
   "metadata": {},
   "source": [
    "##### Ploting the model residuals"
   ]
  },
  {
   "cell_type": "code",
   "execution_count": null,
   "metadata": {},
   "outputs": [],
   "source": [
    "#checking for homoscedasticity \n",
    "#residuals for predicted values, \n",
    "fig, ax = plt.subplots()\n",
    "\n",
    "ax.scatter(house_df[\"price\"], baseline_results.resid)\n",
    "ax.axhline(y=0, color=\"black\")\n",
    "ax.set_xlabel(\"sqft_living\")\n",
    "ax.set_ylabel(\"residuals\"); "
   ]
  },
  {
   "cell_type": "code",
   "execution_count": null,
   "metadata": {},
   "outputs": [],
   "source": [
    "#Our scatter plot shows a clear pattern where where most of our data points are consistently above the line y = 0 than below,\n",
    "# this pattern extends across a significant protion of the data which suggests presence of heteroscedasticity, \n",
    "#this posses a problem because it violates the assumption of constant variance of residuals in our baseline linear model"
   ]
  },
  {
   "cell_type": "code",
   "execution_count": null,
   "metadata": {},
   "outputs": [],
   "source": [
    "# To overcome the problem stated above we'll diagnose heteroscedasticity by applying log transformation to our price column,\n",
    "#we'll then refit the model with log-transformed dependent variable in this case the price column, \n",
    "#we'll then check for heteroscedasticity through visualization# Apply log transformation to 'price'\n",
    "\n",
    "cleaned_house_df['log_price'] = np.log(cleaned_house_df['price'])\n",
    "\n",
    "# Refiting the model with the log-transformed dependent variable\n",
    "X_log = sm.add_constant(cleaned_house_df['sqft_living'])\n",
    "y_log = cleaned_house_df['log_price']\n",
    "\n",
    "model_log = sm.OLS(y_log, X_log).fit()\n"
   ]
  },
  {
   "cell_type": "code",
   "execution_count": null,
   "metadata": {},
   "outputs": [],
   "source": [
    "# Ploting residuals against predicted values after log transformation\n",
    "fig, ax = plt.subplots()\n",
    "\n",
    "ax.scatter(cleaned_house_df['sqft_living'], model_log.resid)\n",
    "ax.axhline(y=0, color=\"black\")\n",
    "ax.set_xlabel(\"sqft_living\")\n",
    "ax.set_ylabel(\"residuals (log-transformed)\")\n",
    "plt.show()\n"
   ]
  },
  {
   "cell_type": "code",
   "execution_count": null,
   "metadata": {},
   "outputs": [],
   "source": [
    "#This looks much better\n",
    "#Going forward with our analysis we'll be using the model_log i.e log_price to make predictions as well as interpreting the results."
   ]
  },
  {
   "cell_type": "code",
   "execution_count": null,
   "metadata": {},
   "outputs": [],
   "source": [
    "#In the next step we'll create a new column to store the log-transformed value i.e log_price \n",
    "cleaned_house_df['log_price'] = np.log(cleaned_house_df['price'])\n",
    "\n",
    "\n",
    "#Now,our DataFrame cleaned_house_df has a new column named log_price containing the log-transformed values of the 'price' variable. \n",
    "#we'll be using this column as our dependent variable in our subsequent analysis.\n"
   ]
  },
  {
   "cell_type": "markdown",
   "metadata": {},
   "source": [
    "### Multiple Linear regression\n",
    "Here we use multiple linear regression to predict house price from more than one feature. Multiple linear regression models the linear relationship between a dependent variable and two or more independent variables"
   ]
  },
  {
   "cell_type": "markdown",
   "metadata": {},
   "source": [
    "###### Checking for multicollinearity among the features"
   ]
  },
  {
   "cell_type": "code",
   "execution_count": null,
   "metadata": {},
   "outputs": [],
   "source": [
    "corr = house_df.corr().abs()\n",
    "\n",
    "Multicollinear_Features = []\n",
    "Multicollinear_Corr = []\n",
    "\n",
    "# Function to check multicollinearity for a given feature\n",
    "def check_multicollinearity(feature):\n",
    "    for idx, correlation in corr[feature].items():\n",
    "        if correlation >= 0.75 and idx != feature:\n",
    "            Multicollinear_Features.append([feature, idx])\n",
    "            Multicollinear_Corr.append(correlation)\n",
    "\n",
    "# Iterate over features in the correlation matrix\n",
    "for feature in corr.columns:\n",
    "    check_multicollinearity(feature)\n",
    "\n",
    "# Creating a DataFrame with multicollinearity information\n",
    "MC_df = pd.DataFrame({'Correlations': Multicollinear_Corr, 'Features': Multicollinear_Features})\n",
    "MC_df = MC_df.sort_values(by='Correlations', ascending=False)\n",
    "\n",
    "\n",
    "print(MC_df)"
   ]
  },
  {
   "cell_type": "markdown",
   "metadata": {},
   "source": [
    "#### Building a Multiple Linear Regression Model\n"
   ]
  },
  {
   "cell_type": "code",
   "execution_count": null,
   "metadata": {},
   "outputs": [],
   "source": []
  },
  {
   "cell_type": "markdown",
   "metadata": {},
   "source": [
    "#### Model 1"
   ]
  },
  {
   "cell_type": "code",
   "execution_count": null,
   "metadata": {},
   "outputs": [],
   "source": [
    "# defining dependent and independent variables\n",
    "y = cleaned_house_df['log_price']\n",
    "X = cleaned_house_df[['bathrooms','sqft_living','house_age','condition']]"
   ]
  },
  {
   "cell_type": "code",
   "execution_count": null,
   "metadata": {},
   "outputs": [],
   "source": [
    "#Add a constant\n",
    "X = sm.add_constant(X)\n",
    "X.head()"
   ]
  },
  {
   "cell_type": "code",
   "execution_count": null,
   "metadata": {},
   "outputs": [],
   "source": [
    "#Training and Test Set\n",
    "from sklearn.model_selection import train_test_split\n",
    "\n",
    "X_train, X_test, y_train, y_test = train_test_split(X,y,\n",
    "                                                    test_size = 0.2,\n",
    "                                                    random_state = 1502)"
   ]
  },
  {
   "cell_type": "code",
   "execution_count": null,
   "metadata": {},
   "outputs": [],
   "source": [
    "#Multilinear regression\n",
    "model = sm.OLS(y_train, X_train).fit()\n",
    "print(model.summary())"
   ]
  },
  {
   "cell_type": "code",
   "execution_count": null,
   "metadata": {},
   "outputs": [],
   "source": [
    "# Making predictions on the test data\n",
    "predictions = model.predict(X_test)\n",
    "predictions[:4]"
   ]
  },
  {
   "cell_type": "code",
   "execution_count": null,
   "metadata": {},
   "outputs": [],
   "source": [
    "#Accuracy Assesment\n",
    "from sklearn.metrics import mean_absolute_error, mean_squared_error\n",
    "\n",
    "print('MAE:', round(mean_absolute_error(y_test, predictions)))\n",
    "print('RMSE:', round(np.sqrt(mean_squared_error(y_test, predictions)),1))"
   ]
  },
  {
   "cell_type": "markdown",
   "metadata": {},
   "source": [
    "- For this specific MAE value, it means that our model is off by about 0 USD in a given price prediction.\n",
    "- For this specific RMSE value, it means that our model is off by about 0.4 USD in a given  price prediction."
   ]
  },
  {
   "cell_type": "markdown",
   "metadata": {},
   "source": [
    "#### Model 2"
   ]
  },
  {
   "cell_type": "code",
   "execution_count": null,
   "metadata": {},
   "outputs": [],
   "source": [
    "# defining dependent and independent variables\n",
    "y = cleaned_house_df['log_price']\n",
    "X = cleaned_house_df[['bedrooms','sqft_living','bathrooms','house_age','condition']]"
   ]
  },
  {
   "cell_type": "code",
   "execution_count": null,
   "metadata": {},
   "outputs": [],
   "source": [
    "#Add a constant\n",
    "X = sm.add_constant(X)\n",
    "X.head()"
   ]
  },
  {
   "cell_type": "code",
   "execution_count": null,
   "metadata": {},
   "outputs": [],
   "source": [
    "#Training and Test Set\n",
    "from sklearn.model_selection import train_test_split\n",
    "\n",
    "X_train, X_test, y_train, y_test = train_test_split(X,y,\n",
    "                                                    test_size = 0.2,\n",
    "                                                    random_state = 1502)"
   ]
  },
  {
   "cell_type": "code",
   "execution_count": null,
   "metadata": {},
   "outputs": [],
   "source": [
    "#Multilinear regression\n",
    "model_2 = sm.OLS(y_train, X_train).fit()\n",
    "print(model_2.summary())"
   ]
  },
  {
   "cell_type": "code",
   "execution_count": null,
   "metadata": {},
   "outputs": [],
   "source": [
    "# Making predictions on the test data\n",
    "predictions = model_2.predict(X_test)\n",
    "predictions[:4]"
   ]
  },
  {
   "cell_type": "code",
   "execution_count": null,
   "metadata": {},
   "outputs": [],
   "source": [
    "#Accuracy Assesment\n",
    "from sklearn.metrics import mean_absolute_error, mean_squared_error\n",
    "\n",
    "print('MAE:', round(mean_absolute_error(y_test, predictions)))\n",
    "print('RMSE:', round(np.sqrt(mean_squared_error(y_test, predictions)),1))"
   ]
  },
  {
   "cell_type": "markdown",
   "metadata": {},
   "source": [
    "- For this specific MAE value, it means that our model is off by about 0 USD in a given price prediction*.\n",
    "- For this specific RMSE value, it means that our model is off by about 0.3 USD in a given  price prediction*."
   ]
  },
  {
   "cell_type": "code",
   "execution_count": null,
   "metadata": {},
   "outputs": [],
   "source": [
    "#Recursive feature selection\n",
    "# Creating the RFE model \n",
    "n_features_to_select = 5 \n",
    "rfe = RFE(estimator=LinearRegression(), n_features_to_select=n_features_to_select)\n",
    "X_train_rfe = rfe.fit_transform(X_train, y_train)\n",
    "\n",
    "# Fit the model with selected features\n",
    "model_rfe = sm.OLS(y_train, sm.add_constant(X_train_rfe))\n",
    "results_rfe = model_rfe.fit()\n",
    "print(results_rfe.summary())"
   ]
  },
  {
   "cell_type": "markdown",
   "metadata": {},
   "source": [
    "####  We choose model 2 because\n",
    "\n",
    "- Higher R-squared value: Model 2 has the highest R-squared value of 46.5%, indicating that it explains a larger proportion of the variance in the dependent variable compared to the other  model."
   ]
  },
  {
   "cell_type": "markdown",
   "metadata": {},
   "source": [
    "#### Evaluating the model\n",
    "\n",
    " Evaluating our model to fit the assumptions of linear regression"
   ]
  },
  {
   "cell_type": "code",
   "execution_count": null,
   "metadata": {},
   "outputs": [],
   "source": [
    "#log transforming sqft_living\n",
    "cleaned_house_df['sqft_living'] = np.log(cleaned_house_df['sqft_living'])"
   ]
  },
  {
   "cell_type": "code",
   "execution_count": null,
   "metadata": {
    "scrolled": false
   },
   "outputs": [],
   "source": [
    "# Perform model diagnostics for our independent variables\n",
    "def model_diagnostic(model, x, x_name, y):\n",
    "    fig, axes = plt.subplots(1, 3, figsize=(18, 6))\n",
    "    sns.scatterplot(x=x, y=model.resid, ax=axes[0])\n",
    "    axes[0].set_xlabel(x_name)\n",
    "    axes[0].set_ylabel('Residuals')\n",
    "    axes[0].set_title('Residuals')\n",
    "    sns.histplot(model.resid, kde=True, ax=axes[1])\n",
    "    axes[1].set_xlabel('Residuals')\n",
    "    axes[1].set_ylabel('Density')\n",
    "    axes[1].set_title('Distribution of Residuals')\n",
    "    sm.qqplot(model.resid, line='r', ax=axes[2])\n",
    "    axes[2].set_xlabel('Theoretical Quantiles')\n",
    "    axes[2].set_ylabel('Sample Quantiles')\n",
    "    axes[2].set_title('QQ Plot of Residuals')\n",
    "    plt.show()\n",
    "model_2 = sm.OLS(cleaned_house_df['log_price'], sm.add_constant(cleaned_house_df[['sqft_living', 'condition', 'bathrooms']])).fit()\n",
    "model_diagnostic(model_2, cleaned_house_df['sqft_living'], 'sqft_living', cleaned_house_df['log_price'])\n",
    "model_diagnostic(model_2, cleaned_house_df['condition'], 'condition', cleaned_house_df['log_price'])\n",
    "model_diagnostic(model_2, cleaned_house_df['bathrooms'], 'bathrooms', cleaned_house_df['log_price'])\n",
    "model_diagnostic(model_2, cleaned_house_df['house_age'], 'house_age', cleaned_house_df['log_price'])\n",
    "model_diagnostic(model_2, cleaned_house_df['bedrooms'], 'bedrooms', cleaned_house_df['log_price'])"
   ]
  },
  {
   "cell_type": "markdown",
   "metadata": {},
   "source": [
    "- Residual plot  measures homoscedasticity\n",
    "- Density plot measeures normality\n",
    "- Line graph measures linearity\n",
    "- The four independent variables 'sqft_living', 'condition', 'bathrooms' ,'house_age','bedrooms' pass the assumptions for regression that is normality, homoscedasticity and linearity.\n"
   ]
  },
  {
   "cell_type": "markdown",
   "metadata": {},
   "source": [
    "In the United States, the classification of bathrooms involves different types. A \"full\" bathroom comprises a sink, toilet, and either a tub/shower combo or separate tub and shower. Meanwhile, a \"three-quarters\" bath includes a sink, toilet, and either a tub OR a shower, but not both. A \"half-bath\" has a sink and a toilet, commonly known as \"powder rooms.\" Lastly, a \"quarter-bath\" consists only of a toilet and is less prevalent today, typically found in places like garages or workshops for practical reasons"
   ]
  },
  {
   "cell_type": "markdown",
   "metadata": {},
   "source": [
    "#### Results for model 2"
   ]
  },
  {
   "cell_type": "markdown",
   "metadata": {},
   "source": [
    "- Our model shows a Prob (F-statistic) of 0.000 which is lower than the standard alpha of 0.05.The results also shows that the p_value of all the coefficients is 0.00 suggesting that the model is statistically significant.\n",
    "\n",
    "- R-squared is 0.465, indicating that approximately 46.5% of the variability in housing prices is explained by the model.\n",
    "\n",
    "\n",
    "- The constant coefficientsuggest the baseline price is USD 11.9325 when all other predictors are zero.\n",
    "- The bedrooms coefficient indicates that a unit increase in number of bedrooms   is associated with a decrease in price by USD 0.0765.\n",
    "- The sqft_living coefficient suggest that a unit increase  in square footage is associated with an increase in price by  USD 0.0004\n",
    "- The bathrooms coefficient suggest that a unit increase in number of bathrooms are associated with an increasee in prices USD 0.1572.\n",
    "- The house_age coefficient suggest that a unit increase in house age is associated with an increase in prices by USD 0.0039. \n",
    "- The condition coefficient  indicates that a unit increase of  house condition is associated with an increase in prices by  USD 0.0166.\n",
    "\n",
    "- The  model shows that with 95% confidence interval for the intercept is about  11.895 to about 11.970,our 95% confidence interval for the coefficient of bedrooms coefficient is about -0.084 to -0.069,our 95% confidence interval for the coefficient of sqft_living coefficient is about 0.000 and 0.000,our 95% confidence interval for the coefficient of bathrooms coefficient is about  0.145 to 0.170,our 95% confidence interval for the coefficient of house_age coefficient is about  0.145 to 0.170,our 95% confidence interval for the coefficient of condition coefficient is about  0.008 to 0.025."
   ]
  },
  {
   "cell_type": "markdown",
   "metadata": {},
   "source": [
    "Key Findings:\n",
    "\n",
    "Square Footage Influence: The analysis indicates that square footage (\"sqft_living\") is a substantial predictor of home prices, suggesting larger homes tend to command higher values.\n",
    "\n",
    "Additional Factors: In the multiple regression model, other factors such as the number of bathrooms, house age, and overall condition also play a role in predicting home prices, showcasing the multifaceted nature of property valuation."
   ]
  },
  {
   "cell_type": "markdown",
   "metadata": {},
   "source": [
    "### Recommendations"
   ]
  },
  {
   "cell_type": "markdown",
   "metadata": {},
   "source": [
    "Emphasize Square Footage Expansion: Based on the models, expanding the square footage of your home can significantly boost its estimated value. Consider strategic renovations or additions to increase living space, aligning with market preferences.\n",
    "\n",
    "Modernize Bathrooms: The number of bathrooms is also influential. Modernizing and upgrading bathrooms can enhance overall home appeal and potentially contribute to a higher estimated value.\n",
    "\n",
    "Maintain and Upgrade Overall Condition: Improving the overall condition of your property is crucial. Regular maintenance and upgrades, such as fresh paint, landscaping, and fixing any structural issues, can positively impact home valuation.\n",
    "Holistic Approach to Home Improvement:\n",
    "\n",
    "Balanced Upgrades: While square footage is pivotal, balance your renovation efforts by considering other factors such as bathrooms, house age, and condition. A well-rounded approach to improvement can lead to a more appealing and valuable property.\n",
    "\n",
    "\n",
    "Engage Real Estate Professionals: Consult with local real estate professionals or certified appraisers to gain insights specific to your area. They can provide a nuanced understanding of current market trends, buyer preferences, and valuation nuances that go beyond the scope of the models.\n",
    "\n",
    "Appraisal for Accuracy: Invest in a professional appraisal for a precise and tailored assessment of your home's value. An appraiser can consider a range of factors that impact local property values and provide a more accurate estimate.\n",
    "Acknowledge Model Limitations:\n",
    "\n",
    "Understand Model Scope: Recognize that regression models have limitations and might not capture every factor influencing home prices. Individual cases can vary, and unique features of your property or local market conditions might not be fully represented.\n",
    "\n",
    "Regular Reevaluation: Given the dynamic nature of real estate markets, periodically reassess the value of your property, especially after major renovations or changes in market conditions.\n"
   ]
  },
  {
   "cell_type": "markdown",
   "metadata": {},
   "source": [
    "### Conclusion"
   ]
  },
  {
   "cell_type": "markdown",
   "metadata": {},
   "source": [
    "By incorporating these refined recommendations, homeowners can adopt a more comprehensive and informed strategy for enhancing their home's value based on the provided regression models.\n",
    "\n",
    "\n",
    "Improvement of house condition will increase the price by USD 0.0166"
   ]
  },
  {
   "cell_type": "markdown",
   "metadata": {},
   "source": [
    "Model evaluation metrics, including R-squared, MAE, and RMSE, provided a quantitative assessment of predictive accuracy. Model 2, with an R-squared value of 46.5%, outperformed the baseline model and demonstrated its ability to explain a substantial proportion of the variability in housing prices. The low MAE and RMSE values further indicated that the model's predictions were relatively close to the actual prices.\n",
    "\n",
    "However, it is essential to acknowledge the limitations of the model. Real estate markets are dynamic, and various external factors can influence house prices, which might not be captured by the selected features. Continuous model refinement and updates with the latest data are crucial to maintaining accuracy.\n",
    "\n",
    "In addition, while the model met several assumptions of linear regression, addressing concerns such as heteroscedasticity, the complexity of the housing market suggests potential room for improvement. \n",
    "\n",
    "Future iterations of this project could explore alternative models, including polynomial regression, and consider incorporating additional localized features to enhance predictive capabilities.\n",
    "\n",
    "Overall, this project provides a foundation for predicting house prices in King County, offering valuable insights for real estate professionals, homeowners, and potential buyers. The continuous evolution and adaptation of the model will be key to ensuring its relevance and effectiveness in a dynamic real estate landscape."
   ]
  },
  {
   "cell_type": "code",
   "execution_count": null,
   "metadata": {},
   "outputs": [],
   "source": []
  }
 ],
 "metadata": {
  "kernelspec": {
   "display_name": "Python 3 (ipykernel)",
   "language": "python",
   "name": "python3"
  },
  "language_info": {
   "codemirror_mode": {
    "name": "ipython",
    "version": 3
   },
   "file_extension": ".py",
   "mimetype": "text/x-python",
   "name": "python",
   "nbconvert_exporter": "python",
   "pygments_lexer": "ipython3",
   "version": "3.11.5"
  }
 },
 "nbformat": 4,
 "nbformat_minor": 2
}
